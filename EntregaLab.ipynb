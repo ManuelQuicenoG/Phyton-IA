{
 "cells": [
  {
   "cell_type": "markdown",
   "metadata": {},
   "source": [
    "# Python Exercises, practice"
   ]
  },
  {
   "cell_type": "markdown",
   "metadata": {},
   "source": [
    "-Manuel David Quiceno Gallego\n",
    "\n",
    "-Juan Pablo Muñoz Muñoz"
   ]
  },
  {
   "cell_type": "code",
   "execution_count": 57,
   "metadata": {
    "collapsed": true
   },
   "outputs": [
    {
     "name": "stdout",
     "output_type": "stream",
     "text": [
      "hello world\n"
     ]
    }
   ],
   "source": [
    "print(\"hello world\")"
   ]
  },
  {
   "cell_type": "code",
   "execution_count": 4,
   "metadata": {},
   "outputs": [],
   "source": [
    "variable = \"hello world\""
   ]
  },
  {
   "cell_type": "code",
   "execution_count": 6,
   "metadata": {
    "collapsed": true
   },
   "outputs": [
    {
     "name": "stdout",
     "output_type": "stream",
     "text": [
      "<class 'str'>\n"
     ]
    }
   ],
   "source": [
    "print(type(variable))"
   ]
  },
  {
   "cell_type": "code",
   "execution_count": 8,
   "metadata": {},
   "outputs": [],
   "source": [
    "variable = variable.replace(\" world\", \"\")"
   ]
  },
  {
   "cell_type": "code",
   "execution_count": 9,
   "metadata": {
    "collapsed": true
   },
   "outputs": [
    {
     "name": "stdout",
     "output_type": "stream",
     "text": [
      "1\n",
      "3\n",
      "5\n",
      "7\n",
      "9\n",
      "11\n",
      "13\n",
      "15\n",
      "17\n",
      "19\n"
     ]
    }
   ],
   "source": [
    "def oddNumbersOneToTwenty(lista):\n",
    "    for i in lista:\n",
    "        if i % 2 != 0:\n",
    "            print(i)\n",
    "oddNumbersOneToTwenty(range(1,21))"
   ]
  },
  {
   "cell_type": "code",
   "execution_count": 42,
   "metadata": {
    "collapsed": true
   },
   "outputs": [
    {
     "name": "stdout",
     "output_type": "stream",
     "text": [
      "4\n",
      "9\n",
      "16\n",
      "25\n"
     ]
    }
   ],
   "source": [
    "from my_tools import ex as exponecial\n",
    "def exponentiation(lista, potencia):\n",
    "    return exponecial(lista,potencia)\n",
    "exponentiation([2,3,4,5],2) "
   ]
  },
  {
   "cell_type": "code",
   "execution_count": null,
   "metadata": {},
   "outputs": [],
   "source": [
    "diccionario = {\"variableUno\": [1,2,3,4], \"variableDos\": [\"1\",\"a\",\"?\"]}"
   ]
  },
  {
   "cell_type": "code",
   "execution_count": 10,
   "metadata": {
    "collapsed": true
   },
   "outputs": [
    {
     "data": {
      "text/plain": [
       "'Zpam'"
      ]
     },
     "execution_count": 10,
     "metadata": {},
     "output_type": "execute_result"
    }
   ],
   "source": [
    "\"Spam\".replace(\"S\",\"Z\")"
   ]
  },
  {
   "cell_type": "code",
   "execution_count": 11,
   "metadata": {
    "collapsed": true
   },
   "outputs": [
    {
     "data": {
      "text/plain": [
       "8"
      ]
     },
     "execution_count": 11,
     "metadata": {},
     "output_type": "execute_result"
    }
   ],
   "source": [
    "def perimeterOfARectangle(x, y):\n",
    "    return 2*x + 2*y\n",
    "perimeterOfARectangle(2,2)"
   ]
  },
  {
   "cell_type": "code",
   "execution_count": 54,
   "metadata": {
    "collapsed": true
   },
   "outputs": [
    {
     "name": "stdout",
     "output_type": "stream",
     "text": [
      "11.43118427069044\n",
      "21.469150482230148\n",
      "19.721036967980208\n",
      "19.230182228869694\n",
      "15.776829574384166\n"
     ]
    }
   ],
   "source": [
    "class person:\n",
    "    def __init__(self, estatura, peso):\n",
    "        self.estatura = estatura \n",
    "        self.peso = peso\n",
    "    def BMI(self):\n",
    "        return self.peso/(self.estatura**2)\n",
    "\n",
    "manuel = person(1.62,30) \n",
    "juan = person(1.74,65)\n",
    "andres = person(1.67,55)\n",
    "quintana = person(1.81,63)\n",
    "andrea = person(1.67,44)\n",
    "lista = [manuel, juan, andres, quintana, andrea]\n",
    "\n",
    "def calcBMI(listaa):\n",
    "    for i in listaa:\n",
    "        print(i.BMI())     \n",
    "    \n",
    "calcBMI(lista)"
   ]
  },
  {
   "cell_type": "code",
   "execution_count": 1,
   "metadata": {
    "collapsed": true
   },
   "outputs": [
    {
     "name": "stdout",
     "output_type": "stream",
     "text": [
      "1\n",
      "whiz \n",
      "bang \n",
      "whiz \n",
      "5\n",
      "whiz bang \n",
      "7\n",
      "whiz \n",
      "bang \n",
      "whiz \n",
      "11\n",
      "whiz bang \n",
      "13\n",
      "whiz \n",
      "bang \n",
      "whiz \n",
      "17\n",
      "whiz bang \n",
      "19\n",
      "whiz \n",
      "bang \n",
      "whiz \n",
      "23\n",
      "whiz bang \n",
      "25\n",
      "whiz \n",
      "bang \n",
      "whiz \n",
      "29\n",
      "whiz bang \n",
      "31\n",
      "whiz \n",
      "bang \n",
      "whiz \n",
      "35\n",
      "whiz bang \n",
      "37\n",
      "whiz \n",
      "bang \n",
      "whiz \n",
      "41\n",
      "whiz bang \n",
      "43\n",
      "whiz \n",
      "bang \n",
      "whiz \n",
      "47\n",
      "whiz bang \n",
      "49\n",
      "whiz \n",
      "bang \n",
      "whiz \n",
      "53\n",
      "whiz bang \n",
      "55\n",
      "whiz \n",
      "bang \n",
      "whiz \n",
      "59\n",
      "whiz bang \n",
      "61\n",
      "whiz \n",
      "bang \n",
      "whiz \n",
      "65\n",
      "whiz bang \n",
      "67\n",
      "whiz \n",
      "bang \n",
      "whiz \n",
      "71\n",
      "whiz bang \n",
      "73\n",
      "whiz \n",
      "bang \n",
      "whiz \n",
      "77\n",
      "whiz bang \n",
      "79\n",
      "whiz \n",
      "bang \n",
      "whiz \n",
      "83\n",
      "whiz bang \n",
      "85\n",
      "whiz \n",
      "bang \n",
      "whiz \n",
      "89\n",
      "whiz bang \n",
      "91\n",
      "whiz \n",
      "bang \n",
      "whiz \n",
      "95\n",
      "whiz bang \n",
      "97\n",
      "whiz \n",
      "bang \n",
      "whiz \n"
     ]
    }
   ],
   "source": [
    "def printsNumbers():\n",
    "    for i in range(1,101):\n",
    "        mensaje = \"\"\n",
    "        if i % 2 == 0:\n",
    "            mensaje += \"whiz \"\n",
    "        if i % 3 == 0:\n",
    "            mensaje += \"bang \"\n",
    "        if (i % 2 != 0) & (i % 3 != 0):\n",
    "            print(repr(i))\n",
    "        else:\n",
    "            print(mensaje)\n",
    "printsNumbers()"
   ]
  }
 ],
 "metadata": {
  "kernelspec": {
   "display_name": "Python 3",
   "language": "python",
   "name": "python3"
  },
  "language_info": {
   "codemirror_mode": {
    "name": "ipython",
    "version": 3
   },
   "file_extension": ".py",
   "mimetype": "text/x-python",
   "name": "python",
   "nbconvert_exporter": "python",
   "pygments_lexer": "ipython3",
   "version": "3.7.3"
  }
 },
 "nbformat": 4,
 "nbformat_minor": 2
}
