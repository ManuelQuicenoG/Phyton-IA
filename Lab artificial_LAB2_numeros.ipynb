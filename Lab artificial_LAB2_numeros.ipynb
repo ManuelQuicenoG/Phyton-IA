{
 "cells": [
  {
   "cell_type": "code",
   "execution_count": 3,
   "metadata": {},
   "outputs": [],
   "source": [
    "from sklearn.datasets import load_digits\n",
    "import pylab as pl\n",
    "import sklearn"
   ]
  },
  {
   "cell_type": "code",
   "execution_count": 47,
   "metadata": {},
   "outputs": [
    {
     "data": {
      "text/plain": [
       "tuple"
      ]
     },
     "execution_count": 47,
     "metadata": {},
     "output_type": "execute_result"
    }
   ],
   "source": [
    "# cargamos los datos y desplegamos el objeto\n",
    "digits = load_digits(10,True)\n",
    "type(digits)"
   ]
  },
  {
   "cell_type": "code",
   "execution_count": 3,
   "metadata": {},
   "outputs": [],
   "source": [
    "# observe las propieades del objeto, ¿a que tipo se le parece?\n",
    "?sklearn.utils.Bunch"
   ]
  },
  {
   "cell_type": "code",
   "execution_count": 4,
   "metadata": {},
   "outputs": [
    {
     "name": "stdout",
     "output_type": "stream",
     "text": [
      "Se tienen en total: 1797 imágenes\n",
      "[[ 0.  0.  7. 15. 13.  1.  0.  0.]\n",
      " [ 0.  8. 13.  6. 15.  4.  0.  0.]\n",
      " [ 0.  2.  1. 13. 13.  0.  0.  0.]\n",
      " [ 0.  0.  2. 15. 11.  1.  0.  0.]\n",
      " [ 0.  0.  0.  1. 12. 12.  1.  0.]\n",
      " [ 0.  0.  0.  0.  1. 10.  8.  0.]\n",
      " [ 0.  0.  8.  4.  5. 14.  9.  0.]\n",
      " [ 0.  0.  7. 13. 13.  9.  0.  0.]]\n"
     ]
    },
    {
     "data": {
      "text/plain": [
       "<Figure size 432x288 with 0 Axes>"
      ]
     },
     "metadata": {},
     "output_type": "display_data"
    },
    {
     "data": {
      "image/png": "[encoded data removed]",
      "text/plain": [
       "<Figure size 288x288 with 1 Axes>"
      ]
     },
     "metadata": {
      "needs_background": "light"
     },
     "output_type": "display_data"
    }
   ],
   "source": [
    "pl.gray() # Queremos las imágenes en grises\n",
    "pl.matshow(digits.images[50]) # Imprimir una imagen dada\n",
    "numImagenes = len(digits.images) # Numero de imagenes, len es un método que provee el tamaño del arreglo\n",
    "print(\"Se tienen en total:\", numImagenes, \"imágenes\")\n",
    "print(digits.images[3]) # Ver su representación en pixeles"
   ]
  },
  {
   "cell_type": "code",
   "execution_count": null,
   "metadata": {},
   "outputs": [],
   "source": []
  },
  {
   "cell_type": "code",
   "execution_count": 12,
   "metadata": {},
   "outputs": [
    {
     "name": "stdout",
     "output_type": "stream",
     "text": [
      "1797\n"
     ]
    }
   ],
   "source": [
    "numImagenes = len(digits.images)\n",
    "print(numImagenes)1797"
   ]
  },
  {
   "cell_type": "code",
   "execution_count": 22,
   "metadata": {},
   "outputs": [
    {
     "name": "stdout",
     "output_type": "stream",
     "text": [
      "Help on function load_digits in module sklearn.datasets.base:\n",
      "\n",
      "load_digits(n_class=10, return_X_y=False)\n",
      "    Load and return the digits dataset (classification).\n",
      "    \n",
      "    Each datapoint is a 8x8 image of a digit.\n",
      "    \n",
      "    =================   ==============\n",
      "    Classes                         10\n",
      "    Samples per class             ~180\n",
      "    Samples total                 1797\n",
      "    Dimensionality                  64\n",
      "    Features             integers 0-16\n",
      "    =================   ==============\n",
      "    \n",
      "    Read more in the :ref:`User Guide <digits_dataset>`.\n",
      "    \n",
      "    Parameters\n",
      "    ----------\n",
      "    n_class : integer, between 0 and 10, optional (default=10)\n",
      "        The number of classes to return.\n",
      "    \n",
      "    return_X_y : boolean, default=False.\n",
      "        If True, returns ``(data, target)`` instead of a Bunch object.\n",
      "        See below for more information about the `data` and `target` object.\n",
      "    \n",
      "        .. versionadded:: 0.18\n",
      "    \n",
      "    Returns\n",
      "    -------\n",
      "    data : Bunch\n",
      "        Dictionary-like object, the interesting attributes are:\n",
      "        'data', the data to learn, 'images', the images corresponding\n",
      "        to each sample, 'target', the classification labels for each\n",
      "        sample, 'target_names', the meaning of the labels, and 'DESCR',\n",
      "        the full description of the dataset.\n",
      "    \n",
      "    (data, target) : tuple if ``return_X_y`` is True\n",
      "    \n",
      "        .. versionadded:: 0.18\n",
      "    \n",
      "    This is a copy of the test set of the UCI ML hand-written digits datasets\n",
      "    http://archive.ics.uci.edu/ml/datasets/Optical+Recognition+of+Handwritten+Digits\n",
      "    \n",
      "    Examples\n",
      "    --------\n",
      "    To load the data and visualize the images::\n",
      "    \n",
      "        >>> from sklearn.datasets import load_digits\n",
      "        >>> digits = load_digits()\n",
      "        >>> print(digits.data.shape)\n",
      "        (1797, 64)\n",
      "        >>> import matplotlib.pyplot as plt #doctest: +SKIP\n",
      "        >>> plt.gray() #doctest: +SKIP\n",
      "        >>> plt.matshow(digits.images[0]) #doctest: +SKIP\n",
      "        >>> plt.show() #doctest: +SKIP\n",
      "\n"
     ]
    }
   ],
   "source": [
    "help(load_digits)"
   ]
  },
  {
   "cell_type": "code",
   "execution_count": 9,
   "metadata": {},
   "outputs": [
    {
     "data": {
      "text/plain": [
       "sklearn.utils.Bunch"
      ]
     },
     "execution_count": 9,
     "metadata": {},
     "output_type": "execute_result"
    }
   ],
   "source": [
    "from sklearn.datasets import load_digits\n",
    "import pylab as pl\n",
    "import sklearn\n",
    "digits2 = load_digits()\n",
    "type(digits2)"
   ]
  },
  {
   "cell_type": "code",
   "execution_count": 91,
   "metadata": {},
   "outputs": [],
   "source": [
    "\n",
    "unos = list()\n",
    "for i in range(1797):\n",
    "    if digits2.target[i] == 1:\n",
    "        unos.append(digits2.images[i])\n",
    "\n",
    "import random \n",
    "listos = list()\n",
    "actu = random.randint(0,181)\n",
    "\n",
    "def esta(actual):\n",
    "    for i in listos:\n",
    "        if i == actual:\n",
    "            return True\n",
    "    return False\n",
    "        \n",
    "for n in range(55):\n",
    "    while esta(actu):\n",
    "        actu = random.randint(0,181)\n",
    "    listos.append(actu)\n",
    "    \n",
    "\n",
    "listos.sort()\n"
   ]
  },
  {
   "cell_type": "code",
   "execution_count": 64,
   "metadata": {},
   "outputs": [],
   "source": [
    "\n",
    "cinco = list()\n",
    "for i in range(1797):\n",
    "    if digits2.target[i] == 5:\n",
    "        cinco.append(digits2.images[i])\n",
    "      \n",
    "    \n",
    "\n",
    "import random \n",
    "listos5 = list()\n",
    "actu5 = random.randint(0,181)\n",
    "\n",
    "def esta5(actual):\n",
    "    for i in listos5:\n",
    "        if i == actual:\n",
    "            return True\n",
    "    return False\n",
    "        \n",
    "for n in range(55):\n",
    "    while esta5(actu5):\n",
    "        actu5 = random.randint(0,181)\n",
    "    listos5.append(actu5)\n",
    "    \n",
    "\n",
    "listos5.sort()"
   ]
  },
  {
   "cell_type": "code",
   "execution_count": 104,
   "metadata": {},
   "outputs": [
    {
     "name": "stdout",
     "output_type": "stream",
     "text": [
      "unos:\n",
      "46\n",
      "no unos:\n",
      "9\n"
     ]
    }
   ],
   "source": [
    "def esUno(algo):\n",
    "    boleano = True\n",
    "    boleano2 = True\n",
    "    boleano3 = True\n",
    "    boleanoEsqui = True\n",
    "    for n in range(8):\n",
    "        for n2 in range(8):\n",
    "            #print(repr(n)+\",\"+repr(n2))\n",
    "            if n2==3:\n",
    "                if algo[n][n2] == 0.0 and boleano:\n",
    "                    boleano = False\n",
    "                    #print(\"error1\")\n",
    "            elif n2 == 4: \n",
    "                if algo[n][n2] == 0.0 and boleano2:\n",
    "                    boleano2 = False\n",
    "                   # print(\"error2\")\n",
    "            elif n2 == 5:\n",
    "                if algo[n][n2] == 0.0 and boleano3:\n",
    "                    boleano3 = False\n",
    "                    #print(\"error3\")\n",
    "            elif n==5:\n",
    "                if n2 >=0 and n2 <= 1:\n",
    "                    if algo [n][n2] > 5.0 and boleanoEsqui:\n",
    "                        boleanoEsqui = False\n",
    "                     #   print(\"error4\")\n",
    "            elif n==6:\n",
    "                if n2 >=0 and n2 <= 1:\n",
    "                    if algo [n][n2] > 5.0 and boleanoEsqui:\n",
    "                        boleanoEsqui = False\n",
    "                      #  print(\"error5\")\n",
    "            elif n==7:\n",
    "                if n2 >=0 and n2 <= 1:\n",
    "                    if algo [n][n2] > 5.0 and boleanoEsqui:\n",
    "                        boleanoEsqui = False\n",
    "                       # print(\"error6\")\n",
    "    return ((boleano and boleano2) or (boleano2 and boleano3)) and boleanoEsqui\n",
    "    \n",
    "\n",
    "salidas = list()\n",
    "\n",
    "def ConfirmarUno():\n",
    "    for n in listos:\n",
    "        if esUno(unos[n]):\n",
    "            salidas.append(\"si\")\n",
    "        else:\n",
    "            salidas.append(\"no\")\n",
    "\n",
    "\n",
    "ConfirmarUno()\n",
    "     \n",
    "print(\"unos:\")    \n",
    "print(salidas.count(\"si\"))\n",
    "print(\"no unos:\") \n",
    "print(salidas.count(\"no\"))\n",
    "            \n",
    "\n",
    "\n",
    "\n",
    "    "
   ]
  },
  {
   "cell_type": "code",
   "execution_count": 124,
   "metadata": {},
   "outputs": [
    {
     "name": "stdout",
     "output_type": "stream",
     "text": [
      "cincos:\n",
      "39\n",
      "no cincos:\n",
      "16\n"
     ]
    }
   ],
   "source": [
    "\n",
    "lista = [7,6,5,4,3,2,1,0]\n",
    "\n",
    "def esUnCinco(imagen):\n",
    "    j = 0\n",
    "    i = -1\n",
    "    cont = 0\n",
    "    #print(imagen[7][j])\n",
    "    while ((j <= 7) and imagen [7][j] == 0.0):\n",
    "        j = j + 1\n",
    "        #print(j)\n",
    "        #print(imagen[7][j])\n",
    "    if j < 4: \n",
    "        #print(\"pass1\")\n",
    "        while j <=7 and imagen [7][j] != 0.0:\n",
    "            #print(j)\n",
    "            j = j + 1\n",
    "            cont = cont + 1\n",
    "        j = j - 1\n",
    "        #print(\"pass2\")\n",
    "        #print(cont)\n",
    "        if cont >= 3 and j < 7:\n",
    "            #print(\"pass2\")\n",
    "            i = 7\n",
    "            cont = 0\n",
    "            while imagen [i][j] != 0.0 and i >= 1:\n",
    "                i = i - 1\n",
    "                cont = cont + 1\n",
    "            i = i + 1\n",
    "            if cont >= 3 and i > 1:\n",
    "            #    print(\"pass3\")\n",
    "                cont = 0\n",
    "                while imagen [i][j] != 0.0 and j >= 0:\n",
    "                    j = j - 1\n",
    "                    cont = cont + 1  \n",
    "                j = j+1\n",
    "                if cont >= 3 and j > 0:\n",
    "             #       print(\"pass4\")\n",
    "                    cont = 0\n",
    "                    while i >= 0 and imagen [i][j] != 0.0:\n",
    "                        i = i - 1\n",
    "                        cont = cont + 1\n",
    "                    i = i + 1\n",
    "                if cont >= 3 and i >= 0:\n",
    "              #      print(\"pass5\")\n",
    "                    cont = 0\n",
    "                    while j <= 7 and imagen [i][j] != 0.0:\n",
    "                        j = j + 1\n",
    "                        cont = cont + 1\n",
    "                    j = j - 1\n",
    "                    if cont >=3 and j<=7:\n",
    "                        return True\n",
    "                    else:\n",
    "                        return False\n",
    "                else:\n",
    "                    return False\n",
    "            else: \n",
    "                return False\n",
    "        else:\n",
    "            return False            \n",
    "    else:\n",
    "        return False\n",
    "        \n",
    "listaa = list()    \n",
    "for i in listos5:\n",
    "    if(esUnCinco(cinco[i])):\n",
    "        listaa.append(\"si\")\n",
    "    else:\n",
    "        listaa.append(\"no\")\n",
    "print(\"cincos:\")\n",
    "print(listaa.count(\"si\"))\n",
    "print(\"no cincos:\")\n",
    "print(listaa.count(\"no\"))\n",
    "#temp = [[0.0,  0.0,  5,  5,  5,  5,  0.0,  0.0],\n",
    " #      [ 0.0,  5,  5,  5,  5,  5,  0.0,  0.0],\n",
    "  #     [ 0.0,  5,  5,   0.0,  0.0,  0.0,  0.0,  0.0],\n",
    "   #    [ 0.0,  5,  5,  5,  5,  5,  0.0,  0.0],\n",
    "    #   [ 0.0,  5,  5,  5,  5,  5,  0.0,  0.0],\n",
    "    #   [ 0.0,  0.0,  0.0,  0.0,  5,  5,  0.0,  0.0],\n",
    "    #   [ 0.0,  5,  5,  5,  5,  5,  0.0,  0.0],\n",
    "    #   [ 0.0,  5,  5,  5,  5,  5,  0.0,  0.0]]\n",
    "#print(esUnCinco(temp))"
   ]
  },
  {
   "cell_type": "code",
   "execution_count": 103,
   "metadata": {},
   "outputs": [
    {
     "name": "stdout",
     "output_type": "stream",
     "text": [
      "unos:\n",
      "161\n",
      "no unos:\n",
      "21\n"
     ]
    }
   ],
   "source": [
    "salidas2 = list()\n",
    "def ConfirmarUno():\n",
    "    for n in range(182):\n",
    "        if esUno(unos[n]):\n",
    "            salidas2.append(\"si\")\n",
    "        else:\n",
    "            salidas2.append(\"no\")\n",
    "\n",
    "\n",
    "ConfirmarUno()\n",
    "     \n",
    "print(\"unos:\")    \n",
    "print(salidas2.count(\"si\"))\n",
    "print(\"no unos:\") \n",
    "print(salidas2.count(\"no\"))"
   ]
  },
  {
   "cell_type": "code",
   "execution_count": 117,
   "metadata": {},
   "outputs": [
    {
     "name": "stdout",
     "output_type": "stream",
     "text": [
      "unos acertados:\n",
      "161\n",
      "unos no acertados:\n",
      "21\n",
      "dados como unos y no lo son:\n",
      "370\n",
      "aciertos totales:\n",
      "1406\n"
     ]
    }
   ],
   "source": [
    "salidas3 = list()\n",
    "def ConfirmarUno():\n",
    "    unos = 0\n",
    "    otros = 0\n",
    "    fallasTotales = 0\n",
    "    fallasNNUACU = 0\n",
    "    aciertosTotales = 0\n",
    "    unosAcertados = 0\n",
    "    for n in range(1797):\n",
    "        if digits2.target[n]!=1:\n",
    "            otros = otros + 1\n",
    "        if digits2.target[n]==1:\n",
    "            unos = unos + 1\n",
    "        if esUno(digits2.images[n]) and digits2.target[n]==1:\n",
    "            aciertosTotales = aciertosTotales + 1\n",
    "            unosAcertados = unosAcertados + 1\n",
    "        elif esUno(digits2.images[n]) and digits2.target[n]!=1:\n",
    "            fallasNNUACU = fallasNNUACU + 1\n",
    "            fallasTotales = fallasTotales + 1\n",
    "        elif not(esUno(digits2.images[n])) and digits2.target[n]!=1:\n",
    "            aciertosTotales = aciertosTotales + 1\n",
    "        elif not(esUno(digits2.images[n])) and digits2.target[n]==1:\n",
    "            fallasTotales = fallasTotales + 1\n",
    "    print(\"unos acertados:\")\n",
    "    print(unosAcertados)\n",
    "    print(\"unos no acertados:\")\n",
    "    print(unos-unosAcertados)\n",
    "    print(\"dados como unos y no lo son:\")\n",
    "    print(fallasNNUACU)\n",
    "    print(\"aciertos totales:\")\n",
    "    print(aciertosTotales)\n",
    "\n",
    "ConfirmarUno()\n"
   ]
  },
  {
   "cell_type": "code",
   "execution_count": 123,
   "metadata": {},
   "outputs": [
    {
     "name": "stdout",
     "output_type": "stream",
     "text": [
      "cincos:\n",
      "97\n",
      "no unos:\n",
      "85\n"
     ]
    }
   ],
   "source": [
    "salidas4 = list()\n",
    "def Confirmarcinco():\n",
    "    for n in range(182):\n",
    "        if (esUnCinco(cinco[n])):\n",
    "            salidas4.append(\"si\")\n",
    "        else:\n",
    "            salidas4.append(\"no\")\n",
    "\n",
    "\n",
    "Confirmarcinco()\n",
    "     \n",
    "print(\"cincos:\")    \n",
    "print(salidas4.count(\"si\"))\n",
    "print(\"no unos:\") \n",
    "print(salidas4.count(\"no\"))"
   ]
  },
  {
   "cell_type": "code",
   "execution_count": 128,
   "metadata": {},
   "outputs": [
    {
     "name": "stdout",
     "output_type": "stream",
     "text": [
      "cincos acertados:\n",
      "97\n",
      "cincos no acertados:\n",
      "85\n",
      "dados como cincoss y no lo son:\n",
      "239\n",
      "aciertos totales:\n",
      "1473\n"
     ]
    }
   ],
   "source": [
    "def pruebaCincos():\n",
    "    cincos = 0\n",
    "    otros = 0\n",
    "    fallasTotales = 0\n",
    "    fallasNNCACC = 0\n",
    "    aciertosTotales = 0\n",
    "    cincosAcertados = 0\n",
    "    for n in range(1797):\n",
    "        if digits2.target[n]!=5:\n",
    "            otros = otros + 1\n",
    "        if digits2.target[n]==5:\n",
    "            cincos = cincos + 1\n",
    "        if esUnCinco(digits2.images[n]) and digits2.target[n]==5:\n",
    "            aciertosTotales = aciertosTotales + 1\n",
    "            cincosAcertados = cincosAcertados + 1\n",
    "        elif esUnCinco(digits2.images[n]) and digits2.target[n]!=5:\n",
    "            fallasNNCACC = fallasNNCACC + 1\n",
    "            fallasTotales = fallasTotales + 1\n",
    "        elif not(esUnCinco(digits2.images[n])) and digits2.target[n]!=5:\n",
    "            aciertosTotales = aciertosTotales + 1\n",
    "        elif not(esUnCinco(digits2.images[n])) and digits2.target[n]==5:\n",
    "            fallasTotales = fallasTotales + 1\n",
    "    print(\"cincos acertados:\")\n",
    "    print(cincosAcertados)\n",
    "    print(\"cincos no acertados:\")\n",
    "    print(cincos-cincosAcertados)\n",
    "    print(\"dados como cincoss y no lo son:\")\n",
    "    print(fallasNNCACC)\n",
    "    print(\"aciertos totales:\")\n",
    "    print(aciertosTotales)\n",
    "\n",
    "pruebaCincos()\n"
   ]
  },
  {
   "cell_type": "code",
   "execution_count": null,
   "metadata": {},
   "outputs": [],
   "source": []
  }
 ],
 "metadata": {
  "kernelspec": {
   "display_name": "Python 3",
   "language": "python",
   "name": "python3"
  },
  "language_info": {
   "codemirror_mode": {
    "name": "ipython",
    "version": 3
   },
   "file_extension": ".py",
   "mimetype": "text/x-python",
   "name": "python",
   "nbconvert_exporter": "python",
   "pygments_lexer": "ipython3",
   "version": "3.7.3"
  }
 },
 "nbformat": 4,
 "nbformat_minor": 2
}
